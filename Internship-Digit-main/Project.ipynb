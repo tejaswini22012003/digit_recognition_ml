{
 "cells": [
  {
   "cell_type": "code",
   "execution_count": 1,
   "id": "52f788aa",
   "metadata": {},
   "outputs": [],
   "source": [
    "import os\n",
    "import numpy as np\n",
    "\n",
    "from PIL import Image\n",
    "\n",
    "from sklearn.model_selection import train_test_split\n",
    "from sklearn.preprocessing import LabelBinarizer\n",
    "\n",
    "import tensorflow as tf\n",
    "from tensorflow.keras import layers, models"
   ]
  },
  {
   "cell_type": "code",
   "execution_count": 2,
   "id": "8191b761",
   "metadata": {},
   "outputs": [],
   "source": [
    "data_dir = \"img\""
   ]
  },
  {
   "cell_type": "code",
   "execution_count": 3,
   "id": "c336ecbe",
   "metadata": {},
   "outputs": [],
   "source": [
    "X = [] \n",
    "Y = []\n",
    "for digit in range(10):\n",
    "    digit_dir = os.path.join(data_dir, str(digit))\n",
    "    for img_file in os.listdir(digit_dir):\n",
    "        image = Image.open(os.path.join(digit_dir, img_file))\n",
    "        image = image.resize((64, 64))\n",
    "        image = image.convert(\"L\")\n",
    "        image = np.array(image) / 255.0\n",
    "        \n",
    "        X.append(image)\n",
    "        Y.append(digit)\n",
    "\n",
    "X = np.array(X)\n",
    "Y = np.array(Y)"
   ]
  },
  {
   "cell_type": "code",
   "execution_count": 4,
   "id": "7b4ac9fe",
   "metadata": {},
   "outputs": [
    {
     "name": "stdout",
     "output_type": "stream",
     "text": [
      "9\n"
     ]
    }
   ],
   "source": [
    "Image.fromarray(X[925]*255).show()\n",
    "print(Y[925])"
   ]
  },
  {
   "cell_type": "code",
   "execution_count": 5,
   "id": "f7ab2d5a",
   "metadata": {},
   "outputs": [
    {
     "name": "stdout",
     "output_type": "stream",
     "text": [
      "(960, 64, 64)\n",
      "(960,)\n"
     ]
    }
   ],
   "source": [
    "print(X.shape)\n",
    "print(Y.shape)"
   ]
  },
  {
   "cell_type": "code",
   "execution_count": 6,
   "id": "cdd7da11",
   "metadata": {},
   "outputs": [],
   "source": [
    "X_train, X_test, Y_train, Y_test = train_test_split(X, Y, test_size=0.2, random_state=42)"
   ]
  },
  {
   "cell_type": "code",
   "execution_count": 7,
   "id": "3f08fc3f",
   "metadata": {},
   "outputs": [],
   "source": [
    "label_binarizer = LabelBinarizer()"
   ]
  },
  {
   "cell_type": "code",
   "execution_count": 8,
   "id": "4d3cd766",
   "metadata": {},
   "outputs": [],
   "source": [
    "Y_train = label_binarizer.fit_transform(Y_train)\n",
    "Y_test = label_binarizer.transform(Y_test)"
   ]
  },
  {
   "cell_type": "code",
   "execution_count": 9,
   "id": "0242bc94",
   "metadata": {},
   "outputs": [],
   "source": [
    "# CNN Model\n",
    "model = models.Sequential([\n",
    "    layers.Conv2D(32, (3, 3), activation='relu', input_shape=(64, 64, 1)),\n",
    "    layers.MaxPooling2D((2, 2)), \n",
    "    layers.Flatten(), \n",
    "    layers.Dense(128, activation='relu'),\n",
    "    layers.Dense(10, activation='softmax')\n",
    "])"
   ]
  },
  {
   "cell_type": "code",
   "execution_count": 10,
   "id": "c1845357",
   "metadata": {},
   "outputs": [],
   "source": [
    "model.compile(optimizer='adam',\n",
    "              loss='categorical_crossentropy',\n",
    "              metrics=['accuracy'])"
   ]
  },
  {
   "cell_type": "code",
   "execution_count": 11,
   "id": "bc379696",
   "metadata": {},
   "outputs": [
    {
     "name": "stdout",
     "output_type": "stream",
     "text": [
      "Epoch 1/10\n",
      "24/24 [==============================] - 4s 119ms/step - loss: 2.4633 - accuracy: 0.3724 - val_loss: 1.0604 - val_accuracy: 0.7917\n",
      "Epoch 2/10\n",
      "24/24 [==============================] - 3s 112ms/step - loss: 0.5708 - accuracy: 0.9323 - val_loss: 0.3473 - val_accuracy: 0.9323\n",
      "Epoch 3/10\n",
      "24/24 [==============================] - 3s 115ms/step - loss: 0.1651 - accuracy: 0.9857 - val_loss: 0.1727 - val_accuracy: 0.9688\n",
      "Epoch 4/10\n",
      "24/24 [==============================] - 3s 111ms/step - loss: 0.0712 - accuracy: 0.9961 - val_loss: 0.1161 - val_accuracy: 0.9844\n",
      "Epoch 5/10\n",
      "24/24 [==============================] - 3s 109ms/step - loss: 0.0390 - accuracy: 1.0000 - val_loss: 0.0925 - val_accuracy: 0.9844\n",
      "Epoch 6/10\n",
      "24/24 [==============================] - 3s 107ms/step - loss: 0.0247 - accuracy: 1.0000 - val_loss: 0.0811 - val_accuracy: 0.9844\n",
      "Epoch 7/10\n",
      "24/24 [==============================] - 3s 106ms/step - loss: 0.0179 - accuracy: 1.0000 - val_loss: 0.0709 - val_accuracy: 0.9844\n",
      "Epoch 8/10\n",
      "24/24 [==============================] - 3s 107ms/step - loss: 0.0133 - accuracy: 1.0000 - val_loss: 0.0627 - val_accuracy: 0.9896\n",
      "Epoch 9/10\n",
      "24/24 [==============================] - 3s 107ms/step - loss: 0.0105 - accuracy: 1.0000 - val_loss: 0.0592 - val_accuracy: 0.9844\n",
      "Epoch 10/10\n",
      "24/24 [==============================] - 3s 107ms/step - loss: 0.0085 - accuracy: 1.0000 - val_loss: 0.0546 - val_accuracy: 0.9896\n"
     ]
    },
    {
     "data": {
      "text/plain": [
       "<keras.src.callbacks.History at 0x21b61036550>"
      ]
     },
     "execution_count": 11,
     "metadata": {},
     "output_type": "execute_result"
    }
   ],
   "source": [
    "model.fit(X_train, Y_train, epochs=10, validation_data=(X_test, Y_test)) #epoch => cycles; each cycle our models learns whole dataset once"
   ]
  },
  {
   "cell_type": "code",
   "execution_count": 12,
   "id": "5677e9fd",
   "metadata": {},
   "outputs": [
    {
     "name": "stdout",
     "output_type": "stream",
     "text": [
      "6/6 [==============================] - 0s 19ms/step - loss: 0.0546 - accuracy: 0.9896\n",
      "Test Loss: 5.462175607681274\n",
      "Test accuracy: 98.95833134651184\n"
     ]
    }
   ],
   "source": [
    "test_loss, test_acc = model.evaluate(X_test, Y_test)\n",
    "\n",
    "print(f\"Test Loss: {test_loss*100}\")\n",
    "print(f\"Test accuracy: {test_acc*100}\")"
   ]
  },
  {
   "cell_type": "code",
   "execution_count": 13,
   "id": "6bc567dd",
   "metadata": {},
   "outputs": [
    {
     "name": "stdout",
     "output_type": "stream",
     "text": [
      "1/1 [==============================] - 0s 108ms/step\n",
      "[[4.7795288e-06 9.9908924e-01 2.7217981e-04 1.2152439e-04 1.8111244e-04\n",
      "  4.8752216e-05 4.2410131e-05 1.3618193e-05 2.2177008e-04 4.6357882e-06]]\n",
      "Predicted Digit: 1\n"
     ]
    }
   ],
   "source": [
    "test_image_path = \"img/1/65.png\"\n",
    "test_image = Image.open(test_image_path)\n",
    "test_image.show()\n",
    "\n",
    "test_image = test_image.resize((64, 64)) \n",
    "test_image = test_image.convert(\"L\")             \n",
    "test_image = np.array(test_image) / 255.0\n",
    "\n",
    "test_image = np.expand_dims(test_image, 0)\n",
    "\n",
    "# Make predictions\n",
    "predictions = model.predict(test_image) \n",
    "print(predictions)\n",
    "predicted_digit = np.argmax(predictions)\n",
    "\n",
    "\n",
    "print(\"Predicted Digit:\", predicted_digit)"
   ]
  },
  {
   "cell_type": "code",
   "execution_count": 14,
   "id": "b21ef247",
   "metadata": {},
   "outputs": [],
   "source": [
    "import pickle\n",
    "pickle_out = open(\"model.pkl\", \"wb\")\n",
    "pickle.dump(model, pickle_out)\n",
    "pickle_out.close()"
   ]
  },
  {
   "cell_type": "code",
   "execution_count": 15,
   "id": "2ce261af",
   "metadata": {},
   "outputs": [
    {
     "name": "stdout",
     "output_type": "stream",
     "text": [
      "INFO:tensorflow:Assets written to: App/model\\assets\n"
     ]
    },
    {
     "name": "stderr",
     "output_type": "stream",
     "text": [
      "INFO:tensorflow:Assets written to: App/model\\assets\n"
     ]
    }
   ],
   "source": [
    "model.save(\"App/model\")"
   ]
  },
  {
   "cell_type": "code",
   "execution_count": null,
   "id": "2762b70a",
   "metadata": {},
   "outputs": [],
   "source": []
  }
 ],
 "metadata": {
  "kernelspec": {
   "display_name": "Python 3 (ipykernel)",
   "language": "python",
   "name": "python3"
  },
  "language_info": {
   "codemirror_mode": {
    "name": "ipython",
    "version": 3
   },
   "file_extension": ".py",
   "mimetype": "text/x-python",
   "name": "python",
   "nbconvert_exporter": "python",
   "pygments_lexer": "ipython3",
   "version": "3.11.4"
  }
 },
 "nbformat": 4,
 "nbformat_minor": 5
}
